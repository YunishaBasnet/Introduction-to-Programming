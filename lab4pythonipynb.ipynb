{
  "nbformat": 4,
  "nbformat_minor": 0,
  "metadata": {
    "colab": {
      "private_outputs": true,
      "provenance": [],
      "authorship_tag": "ABX9TyNVMIfxmgzQKFriA57A2gy9",
      "include_colab_link": true
    },
    "kernelspec": {
      "name": "python3",
      "display_name": "Python 3"
    },
    "language_info": {
      "name": "python"
    }
  },
  "cells": [
    {
      "cell_type": "markdown",
      "metadata": {
        "id": "view-in-github",
        "colab_type": "text"
      },
      "source": [
        "<a href=\"https://colab.research.google.com/github/YunishaBasnet/Introduction-to-Programming/blob/main/lab4pythonipynb.ipynb\" target=\"_parent\"><img src=\"https://colab.research.google.com/assets/colab-badge.svg\" alt=\"Open In Colab\"/></a>"
      ]
    },
    {
      "cell_type": "markdown",
      "source": [
        "## FunnyBuzz"
      ],
      "metadata": {
        "id": "3UbrdscdJPeV"
      }
    },
    {
      "cell_type": "code",
      "execution_count": null,
      "metadata": {
        "id": "q1L9tx55JDB_"
      },
      "outputs": [],
      "source": [
        "def funnybuzz(n):\n",
        "    for i in range(1, n + 1):\n",
        "        if i % 4 == 0 and i % 6 == 0:\n",
        "            print(\"funnybuzz\")\n",
        "        elif i % 4 == 0:\n",
        "            print(\"funny\")\n",
        "        elif i % 6 == 0:\n",
        "            print(\"buzz\")\n",
        "        else:\n",
        "            print(i)\n",
        "\n",
        "# Ask user for input\n",
        "n = int(input(\"Enter a number: \"))\n",
        "\n",
        "# Call function\n",
        "funnybuzz(n)\n"
      ]
    },
    {
      "cell_type": "markdown",
      "source": [
        "## Multiples_sum"
      ],
      "metadata": {
        "id": "9PGR8MQ1JZgD"
      }
    },
    {
      "cell_type": "code",
      "source": [
        "def multiples_sum(m, n, limit):\n",
        "    total = 0\n",
        "    for i in range(limit):\n",
        "        if i % m == 0 or i % n == 0:\n",
        "            total += i\n",
        "    return total\n",
        "\n",
        "# Ask user for input\n",
        "m = int(input(\"Enter first multiple: \"))\n",
        "n = int(input(\"Enter second multiple: \"))\n",
        "limit = int(input(\"Enter limit: \"))\n",
        "\n",
        "# Call function and print result\n",
        "print(\"Sum of multiples:\", multiples_sum(m, n, limit))\n"
      ],
      "metadata": {
        "id": "OwqWjI1RJlgr"
      },
      "execution_count": null,
      "outputs": []
    },
    {
      "cell_type": "markdown",
      "source": [
        "##Hailstone"
      ],
      "metadata": {
        "id": "l-P2kutzJr6b"
      }
    },
    {
      "cell_type": "code",
      "source": [
        "def hailstone(m):\n",
        "\n",
        "    while m != 1:\n",
        "        print(m, end=\" → \")\n",
        "        if m % 2 == 0:\n",
        "            m //= 2\n",
        "        else:\n",
        "            m = 3 * m + 1\n",
        "    print(1)\n",
        "\n",
        "# Ask user for input\n",
        "m = int(input(\"Enter a positive integer: \"))\n",
        "\n",
        "# Call function\n",
        "hailstone(m)\n"
      ],
      "metadata": {
        "id": "3S13-WnIJof5"
      },
      "execution_count": null,
      "outputs": []
    },
    {
      "cell_type": "markdown",
      "source": [
        "##Nearest"
      ],
      "metadata": {
        "id": "N6rr4T_LJyh1"
      }
    },
    {
      "cell_type": "code",
      "source": [
        "def nearest(n):\n",
        "    power = 1.0\n",
        "    while power * 2 <= n:\n",
        "        power *= 2\n",
        "    if n / power < 1.5:\n",
        "        return power\n",
        "    else:\n",
        "        return power * 2\n",
        "\n",
        "# Ask user for input\n",
        "n = float(input(\"Enter a number: \"))\n",
        "\n",
        "# Call function and print result\n",
        "print(\"Nearest power of 2:\", nearest(n))\n"
      ],
      "metadata": {
        "id": "5KfUna31JwtR"
      },
      "execution_count": null,
      "outputs": []
    },
    {
      "cell_type": "markdown",
      "source": [
        "##Check"
      ],
      "metadata": {
        "id": "0xTISWEcKDgG"
      }
    },
    {
      "cell_type": "code",
      "source": [
        "def check(m):\n",
        "    sum_divisors = 0\n",
        "    for i in range(1, int(m ** 0.5) + 1):  # Loop up to square root of m\n",
        "        if m % i == 0:\n",
        "            pair = m // i\n",
        "            print(f\"{i} * {pair}\")  # Print the factor pair\n",
        "            sum_divisors += i\n",
        "            if i != pair and i != 1:  # Avoid counting the same divisor twice\n",
        "                sum_divisors += pair\n",
        "\n",
        "    return sum_divisors > m\n",
        "\n",
        "# Ask user for input\n",
        "m = int(input(\"Enter a positive integer: \"))\n",
        "\n",
        "# Call function and print result\n",
        "print(\"Is sum of proper divisors greater than m?\", check(m))"
      ],
      "metadata": {
        "id": "pSVmZTmXJ1Sg"
      },
      "execution_count": null,
      "outputs": []
    }
  ]
}