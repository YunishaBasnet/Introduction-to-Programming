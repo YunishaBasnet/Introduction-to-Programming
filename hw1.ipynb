{
  "nbformat": 4,
  "nbformat_minor": 0,
  "metadata": {
    "colab": {
      "private_outputs": true,
      "provenance": [],
      "authorship_tag": "ABX9TyNL4YCNWWkhFUqYlWb5bYZC",
      "include_colab_link": true
    },
    "kernelspec": {
      "name": "python3",
      "display_name": "Python 3"
    },
    "language_info": {
      "name": "python"
    }
  },
  "cells": [
    {
      "cell_type": "markdown",
      "metadata": {
        "id": "view-in-github",
        "colab_type": "text"
      },
      "source": [
        "<a href=\"https://colab.research.google.com/github/YunishaBasnet/Introduction-to-Programming/blob/main/hw1.ipynb\" target=\"_parent\"><img src=\"https://colab.research.google.com/assets/colab-badge.svg\" alt=\"Open In Colab\"/></a>"
      ]
    },
    {
      "cell_type": "markdown",
      "source": [
        "#Question.1"
      ],
      "metadata": {
        "id": "y1o8YhY07YCp"
      }
    },
    {
      "cell_type": "code",
      "source": [
        "True and 1 / 0 and False"
      ],
      "metadata": {
        "id": "1m8g0R7G7dE2"
      },
      "execution_count": null,
      "outputs": []
    },
    {
      "cell_type": "markdown",
      "source": [
        "The first operand (True) is evaluated; it's truthy.\n",
        "1 / 0 is then evaluated, causing a ZeroDivisionError.\n",
        "\n",
        "Output: ZeroDivisionError\n"
      ],
      "metadata": {
        "id": "vRd-g4wI7t-F"
      }
    },
    {
      "cell_type": "code",
      "source": [
        "True or 1 / 0 or False\n"
      ],
      "metadata": {
        "id": "nmhVv_pG7xOW"
      },
      "execution_count": null,
      "outputs": []
    },
    {
      "cell_type": "code",
      "source": [
        "True and 0"
      ],
      "metadata": {
        "id": "-IkGrSii75IH"
      },
      "execution_count": null,
      "outputs": []
    },
    {
      "cell_type": "code",
      "source": [
        "False or 1"
      ],
      "metadata": {
        "id": "xVRzrx4C78Er"
      },
      "execution_count": null,
      "outputs": []
    },
    {
      "cell_type": "code",
      "source": [
        "1 and 3 and 6 and 10 and 15"
      ],
      "metadata": {
        "id": "XJtiG-2S8CA5"
      },
      "execution_count": null,
      "outputs": []
    },
    {
      "cell_type": "code",
      "source": [
        "0 or False or 2 or 1 / 0\n"
      ],
      "metadata": {
        "id": "IWkl7V9a8Eu2"
      },
      "execution_count": null,
      "outputs": []
    },
    {
      "cell_type": "markdown",
      "source": [
        "#Question no.2"
      ],
      "metadata": {
        "id": "Ortpl-9L8JQb"
      }
    },
    {
      "cell_type": "code",
      "source": [
        "def welcome():\n",
        "    print('Welcome to', end=' ')\n",
        "    return 'Hello'\n",
        "\n",
        "def CS250():\n",
        "    print('CS250')\n",
        "    return 'Python'\n",
        "\n",
        "print(welcome(), CS250())\n"
      ],
      "metadata": {
        "id": "zuarp3xR8G_o"
      },
      "execution_count": null,
      "outputs": []
    },
    {
      "cell_type": "markdown",
      "source": [
        "#Question no. 3"
      ],
      "metadata": {
        "id": "5wEPVEl-8Odv"
      }
    },
    {
      "cell_type": "code",
      "source": [
        "x = 6\n",
        "\n",
        "def foo1(x):\n",
        "    print(x)\n",
        "\n",
        "def foo2(x):\n",
        "    y = x\n",
        "    x = 7\n",
        "    print(x)\n",
        "\n",
        "y = foo1(x)\n",
        "foo2(x)\n",
        "y + foo1(8)\n"
      ],
      "metadata": {
        "id": "WQ3oRsSb8N9s"
      },
      "execution_count": null,
      "outputs": []
    },
    {
      "cell_type": "markdown",
      "source": [
        "#Question no. 4"
      ],
      "metadata": {
        "id": "JeNhvQtv8WHg"
      }
    },
    {
      "cell_type": "code",
      "source": [
        "def cake(batter):\n",
        "    return batter\n",
        "\n",
        "def pan(x, y):\n",
        "    y = y + 20\n",
        "    return x(y)\n",
        "\n",
        "pan(print, 10)\n"
      ],
      "metadata": {
        "id": "dUakCqH58VtZ"
      },
      "execution_count": null,
      "outputs": []
    },
    {
      "cell_type": "markdown",
      "source": [
        "# Question no.5"
      ],
      "metadata": {
        "id": "4RGfwzkn8Zmg"
      }
    },
    {
      "cell_type": "code",
      "source": [
        "from operator import sub, mul\n",
        "\n",
        "def print_sub(x, y):\n",
        "    print('sub')\n",
        "    return sub(x, y)\n",
        "\n",
        "def print_mul(x, y):\n",
        "    print('mul')\n",
        "    return mul(x, y)\n",
        "\n",
        "print_sub(print_mul(4, 504), 2)\n"
      ],
      "metadata": {
        "id": "sQBd4nfA8cUv"
      },
      "execution_count": null,
      "outputs": []
    },
    {
      "cell_type": "markdown",
      "source": [
        "#Quwestion no6\n"
      ],
      "metadata": {
        "id": "jp2jtCMJ8gZc"
      }
    },
    {
      "cell_type": "code",
      "source": [
        "x = 10\n",
        "\n",
        "def foo():\n",
        "    return x\n",
        "\n",
        "def bar(x):\n",
        "    return x\n",
        "\n",
        "def foobar(new_value):\n",
        "    x = new_value  # This x is local to the function.\n",
        "    y = x + 1\n",
        "    return x\n",
        "\n",
        "# Function calls\n",
        "foo()      # Returns global x: 10.\n",
        "bar(5)     # Returns argument x: 5.\n",
        "foobar(20) # Sets the local x to 20 and returns 20.\n",
        "x          # Global x is still 10.\n",
        "y          # y is local to foobar and doesn't exist in the global scope.\n"
      ],
      "metadata": {
        "id": "Qs48cR5p8gJB"
      },
      "execution_count": null,
      "outputs": []
    },
    {
      "cell_type": "code",
      "source": [
        "##correct code to print\n",
        "x = 10\n",
        "\n",
        "def foo():\n",
        "    return x\n",
        "\n",
        "def bar(x):\n",
        "    return x\n",
        "\n",
        "def foobar(new_value):\n",
        "    x = new_value\n",
        "    y = x + 1\n",
        "    return x\n",
        "\n",
        "print(foo())      # Will print 10\n",
        "print(bar(5))     # Will print 5\n",
        "print(foobar(20)) # Will print 20\n",
        "print(x)          # Will print 10\n",
        "# print(y)        # Uncommenting this will raise a NameError\n"
      ],
      "metadata": {
        "id": "GrsKP7Mt9Tw_"
      },
      "execution_count": null,
      "outputs": []
    },
    {
      "cell_type": "markdown",
      "source": [
        "# Question no.7"
      ],
      "metadata": {
        "id": "3Xy17vSW9XDZ"
      }
    },
    {
      "cell_type": "code",
      "source": [
        "a = 1\n",
        "def b(b):\n",
        "    return a + b\n",
        "\n",
        "a = b(a)\n",
        "a = b(a)\n",
        "\n",
        "print(a)"
      ],
      "metadata": {
        "id": "7x6cMm4m9Zmr"
      },
      "execution_count": null,
      "outputs": []
    },
    {
      "cell_type": "markdown",
      "source": [
        "#Question no.8\n"
      ],
      "metadata": {
        "id": "JAl2InMS9zvX"
      }
    },
    {
      "cell_type": "code",
      "source": [
        "from operator import add\n",
        "\n",
        "def sub(a, b):\n",
        "    sub = add\n",
        "    return a - b\n",
        "\n",
        "add = sub\n",
        "sub = min\n",
        "\n",
        "print(add(2, sub(2, 3)))\n"
      ],
      "metadata": {
        "id": "ufExsshr9zbT"
      },
      "execution_count": null,
      "outputs": []
    },
    {
      "cell_type": "markdown",
      "source": [
        "#question no.9\n"
      ],
      "metadata": {
        "id": "L4o1RP6l97DW"
      }
    },
    {
      "cell_type": "code",
      "source": [
        "def add_absolute(a, b):\n",
        "    return a + abs(b)\n",
        "result = add_absolute(5, -3)\n",
        "print(result)  # Output will be 5 + 3 = 8\n"
      ],
      "metadata": {
        "id": "XfOYK6T096wT"
      },
      "execution_count": null,
      "outputs": []
    }
  ]
}