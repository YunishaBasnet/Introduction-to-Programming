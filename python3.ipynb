{
  "nbformat": 4,
  "nbformat_minor": 0,
  "metadata": {
    "colab": {
      "private_outputs": true,
      "provenance": [],
      "authorship_tag": "ABX9TyPHiV5+7gW2pr1ZlOI16szA",
      "include_colab_link": true
    },
    "kernelspec": {
      "name": "python3",
      "display_name": "Python 3"
    },
    "language_info": {
      "name": "python"
    }
  },
  "cells": [
    {
      "cell_type": "markdown",
      "metadata": {
        "id": "view-in-github",
        "colab_type": "text"
      },
      "source": [
        "<a href=\"https://colab.research.google.com/github/YunishaBasnet/Introduction-to-Programming/blob/main/python3.ipynb\" target=\"_parent\"><img src=\"https://colab.research.google.com/assets/colab-badge.svg\" alt=\"Open In Colab\"/></a>"
      ]
    },
    {
      "cell_type": "code",
      "execution_count": null,
      "metadata": {
        "id": "M5TsNlqor_tx"
      },
      "outputs": [],
      "source": [
        "import math\n",
        "\n",
        "def approx_e(iter):\n",
        "    e_approx = sum(1 / math.factorial(i) for i in range(iter))\n",
        "    return e_approx\n",
        "\n",
        "# Example usage:\n",
        "result = approx_e(100)\n",
        "print(\"Approximation of e:\", result)\n"
      ]
    },
    {
      "cell_type": "code",
      "source": [
        "import math\n",
        "\n",
        "def squares(seq):\n",
        "    return [x for x in seq if int(math.sqrt(x)) ** 2 == x]\n",
        "\n",
        "# Example usage:\n",
        "seq = [49, 8, 2, 1, 102]\n",
        "print(squares(seq))  # Output: [49, 1]\n",
        "\n",
        "seq = [500, 30]\n",
        "print(squares(seq))  # Output: []\n"
      ],
      "metadata": {
        "id": "uOBE5vMksJaI"
      },
      "execution_count": null,
      "outputs": []
    },
    {
      "cell_type": "code",
      "source": [
        "def add_this_many(x, el, lst):\n",
        "    count = lst.count(x)\n",
        "    lst.extend([el] * count)\n",
        "\n",
        "# Example usage:\n",
        "lst = [1, 2, 4, 3, 1]\n",
        "add_this_many(1, 5, lst)\n",
        "print(lst)  # Output: [1, 2, 4, 3, 1, 5, 5]\n"
      ],
      "metadata": {
        "id": "m0zhkyvzsL2m"
      },
      "execution_count": null,
      "outputs": []
    },
    {
      "cell_type": "code",
      "source": [],
      "metadata": {
        "id": "fb74p9HdsNgj"
      },
      "execution_count": null,
      "outputs": []
    }
  ]
}