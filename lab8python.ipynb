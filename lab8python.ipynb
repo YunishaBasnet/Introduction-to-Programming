{
  "nbformat": 4,
  "nbformat_minor": 0,
  "metadata": {
    "colab": {
      "private_outputs": true,
      "provenance": [],
      "authorship_tag": "ABX9TyO9nbOkNBxyj6+4jchxWrwJ",
      "include_colab_link": true
    },
    "kernelspec": {
      "name": "python3",
      "display_name": "Python 3"
    },
    "language_info": {
      "name": "python"
    }
  },
  "cells": [
    {
      "cell_type": "markdown",
      "metadata": {
        "id": "view-in-github",
        "colab_type": "text"
      },
      "source": [
        "<a href=\"https://colab.research.google.com/github/YunishaBasnet/Introduction-to-Programming/blob/main/lab8python.ipynb\" target=\"_parent\"><img src=\"https://colab.research.google.com/assets/colab-badge.svg\" alt=\"Open In Colab\"/></a>"
      ]
    },
    {
      "cell_type": "code",
      "execution_count": null,
      "metadata": {
        "id": "BWk--TUPMoKP"
      },
      "outputs": [],
      "source": [
        "import math\n",
        "\n",
        "class Sphere:\n",
        "    def __init__(self, radius):\n",
        "        \"\"\"Creates a sphere with the given radius.\"\"\"\n",
        "        self.radius = radius\n",
        "\n",
        "    def getRadius(self):\n",
        "        \"\"\"Returns the radius of the sphere.\"\"\"\n",
        "        return self.radius\n",
        "\n",
        "    def surfaceArea(self):\n",
        "        \"\"\"Returns the surface area of the sphere.\"\"\"\n",
        "        return 4 * math.pi * (self.radius ** 2)\n",
        "\n",
        "    def volume(self):\n",
        "        \"\"\"Returns the volume of the sphere.\"\"\"\n",
        "        return (4/3) * math.pi * (self.radius ** 3)\n",
        "\n",
        "# Example usage:\n",
        "sphere = Sphere(5)  # Creating a sphere with radius 5\n",
        "print(\"Radius:\", sphere.getRadius())  # Getting the radius\n",
        "print(\"Surface Area:\", sphere.surfaceArea())  # Getting the surface area\n",
        "print(\"Volume:\", sphere.volume())  # Getting the volume\n"
      ]
    },
    {
      "cell_type": "code",
      "source": [
        "class Card:\n",
        "    def __init__(self, rank, suit):\n",
        "        \"\"\"Creates a card with the given rank and suit.\"\"\"\n",
        "        self.rank = rank\n",
        "        self.suit = suit\n",
        "\n",
        "    def getRank(self):\n",
        "        \"\"\"Returns the rank of the card.\"\"\"\n",
        "        return self.rank\n",
        "\n",
        "    def getSuit(self):\n",
        "        \"\"\"Returns the suit of the card.\"\"\"\n",
        "        return self.suit\n",
        "\n",
        "    def value(self):\n",
        "        \"\"\"Returns the Blackjack value of the card.\"\"\"\n",
        "        if self.rank == 1:\n",
        "            return 1  # Ace counts as 1\n",
        "        elif self.rank > 10:\n",
        "            return 10  # Face cards (Jack, Queen, King) count as 10\n",
        "        else:\n",
        "            return self.rank  # Other cards have their numerical value\n",
        "\n",
        "    def __str__(self):\n",
        "        \"\"\"Returns a string representing the card.\"\"\"\n",
        "        rank_names = {1: \"Ace\", 11: \"Jack\", 12: \"Queen\", 13: \"King\"}\n",
        "        if self.rank in rank_names:\n",
        "            rank_str = rank_names[self.rank]\n",
        "        else:\n",
        "            rank_str = str(self.rank)\n",
        "\n",
        "        suit_names = {'d': 'Diamonds', 'c': 'Clubs', 'h': 'Hearts', 's': 'Spades'}\n",
        "        suit_str = suit_names.get(self.suit, \"Unknown Suit\")\n",
        "\n",
        "        return f\"{rank_str} of {suit_str}\"\n",
        "\n",
        "# Example usage:\n",
        "card = Card(1, 's')  # Ace of Spades\n",
        "print(\"Card:\", card)  # Using __str__ method to print the card\n",
        "print(\"Rank:\", card.getRank())  # Getting the rank\n",
        "print(\"Suit:\", card.getSuit())  # Getting the suit\n",
        "print(\"Blackjack Value:\", card.value())  # Getting the Blackjack value\n"
      ],
      "metadata": {
        "id": "JT8WNLjgM_WO"
      },
      "execution_count": null,
      "outputs": []
    },
    {
      "cell_type": "code",
      "source": [],
      "metadata": {
        "id": "AbrHHq4ONCiQ"
      },
      "execution_count": null,
      "outputs": []
    }
  ]
}