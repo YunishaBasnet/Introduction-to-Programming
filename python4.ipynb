{
  "nbformat": 4,
  "nbformat_minor": 0,
  "metadata": {
    "colab": {
      "private_outputs": true,
      "provenance": [],
      "authorship_tag": "ABX9TyNLXHqlhSlTKfIA8qIewsuY",
      "include_colab_link": true
    },
    "kernelspec": {
      "name": "python3",
      "display_name": "Python 3"
    },
    "language_info": {
      "name": "python"
    }
  },
  "cells": [
    {
      "cell_type": "markdown",
      "metadata": {
        "id": "view-in-github",
        "colab_type": "text"
      },
      "source": [
        "<a href=\"https://colab.research.google.com/github/YunishaBasnet/Introduction-to-Programming/blob/main/python4.ipynb\" target=\"_parent\"><img src=\"https://colab.research.google.com/assets/colab-badge.svg\" alt=\"Open In Colab\"/></a>"
      ]
    },
    {
      "cell_type": "code",
      "execution_count": null,
      "metadata": {
        "id": "JX5EFrvVuWX-"
      },
      "outputs": [],
      "source": [
        "def max_product(lst):\n",
        "    # Initialize max product as 0, which will be updated as we check products\n",
        "    n = len(lst)\n",
        "    if n < 2:\n",
        "        return 0  # No product if there's fewer than 2 numbers\n",
        "\n",
        "    # Initialize variables for the highest product\n",
        "    max_product = 0\n",
        "    for i in range(n):\n",
        "        for j in range(i+2, n):  # Ensure no consecutive numbers\n",
        "            product = lst[i] * lst[j]\n",
        "            if product > max_product:\n",
        "                max_product = product\n",
        "    return max_product\n",
        "\n",
        "# Example usage:\n",
        "lst = [10, 3, 1, 9, 2]\n",
        "print(\"Max product:\", max_product(lst))  # Output: 90\n"
      ]
    },
    {
      "cell_type": "code",
      "source": [
        "def coords(fn, seq, lower, upper):\n",
        "    return [[x, fn(x)] for x in seq if lower <= fn(x) <= upper]\n",
        "\n",
        "# Example usage:\n",
        "seq = [-4, -2, 0, 1, 3]\n",
        "fn = lambda x: x**2\n",
        "print(coords(fn, seq, 1, 9))  # Output: [[-2, 4], [1, 1], [3, 9]]\n"
      ],
      "metadata": {
        "id": "hWyZ2-E8ulWC"
      },
      "execution_count": null,
      "outputs": []
    },
    {
      "cell_type": "code",
      "source": [
        "def sort(lst):\n",
        "    n = len(lst)\n",
        "    for i in range(n):\n",
        "        for j in range(0, n-i-1):  # Traverse the list\n",
        "            if lst[j] > lst[j+1]:  # Swap if the element is greater than the next\n",
        "                lst[j], lst[j+1] = lst[j+1], lst[j]\n",
        "    return lst\n",
        "\n",
        "# Example usage:\n",
        "lst = [-4, 1, -2, 0, 3]\n",
        "print(sort(lst))  # Output: [-4, -2, 0, 1, 3]\n"
      ],
      "metadata": {
        "id": "pgupIo7Yulrk"
      },
      "execution_count": null,
      "outputs": []
    },
    {
      "cell_type": "code",
      "source": [
        "def check_elem(lst, n):\n",
        "    for elem in lst:\n",
        "        if isinstance(elem, list):  # Check if element is a list\n",
        "            if check_elem(elem, n):  # Recurse if it's a list\n",
        "                return True\n",
        "        elif elem == n:\n",
        "            return True\n",
        "    return False\n",
        "\n",
        "# Example usage:\n",
        "a = [[1,[2]], 3, [[4], [5,[6]]]]\n",
        "print(check_elem(a, 6))  # Output: True\n"
      ],
      "metadata": {
        "id": "OfhsFts2unWN"
      },
      "execution_count": null,
      "outputs": []
    },
    {
      "cell_type": "code",
      "source": [],
      "metadata": {
        "id": "0uiWq6U7uoxN"
      },
      "execution_count": null,
      "outputs": []
    }
  ]
}