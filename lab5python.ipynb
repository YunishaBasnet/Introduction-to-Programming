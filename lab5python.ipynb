{
  "nbformat": 4,
  "nbformat_minor": 0,
  "metadata": {
    "colab": {
      "private_outputs": true,
      "provenance": [],
      "authorship_tag": "ABX9TyM1tpYV8/FXL+uIyGgAukk/",
      "include_colab_link": true
    },
    "kernelspec": {
      "name": "python3",
      "display_name": "Python 3"
    },
    "language_info": {
      "name": "python"
    }
  },
  "cells": [
    {
      "cell_type": "markdown",
      "metadata": {
        "id": "view-in-github",
        "colab_type": "text"
      },
      "source": [
        "<a href=\"https://colab.research.google.com/github/YunishaBasnet/Introduction-to-Programming/blob/main/lab5python.ipynb\" target=\"_parent\"><img src=\"https://colab.research.google.com/assets/colab-badge.svg\" alt=\"Open In Colab\"/></a>"
      ]
    },
    {
      "cell_type": "code",
      "execution_count": null,
      "metadata": {
        "id": "unjNEgGMKmDm"
      },
      "outputs": [],
      "source": [
        "def is_prime(m):\n",
        "    if m < 2:\n",
        "        return False\n",
        "    for i in range(2, int(m ** 0.5) + 1):\n",
        "        if m % i == 0:\n",
        "            return False\n",
        "    return True\n",
        "\n",
        "def print_primes(n):\n",
        "    for i in range(2, n + 1):\n",
        "        if is_prime(i):\n",
        "            print(i)\n",
        "\n",
        "# Ask user for input\n",
        "n = int(input(\"Enter a positive integer: \"))\n",
        "\n",
        "# Call function\n",
        "print_primes(n)\n"
      ]
    },
    {
      "cell_type": "code",
      "source": [
        "def word_count(sentence):\n",
        "  words = sentence.split()\n",
        "  return len(words)\n",
        "\n",
        "# Ask user for input\n",
        "sentence = input(\"Enter a sentence: \")\n",
        "\n",
        "# Call function and print result\n",
        "print(\"Number of words:\", word_count(sentence))\n"
      ],
      "metadata": {
        "id": "tJqr4A7gK0rD"
      },
      "execution_count": null,
      "outputs": []
    },
    {
      "cell_type": "code",
      "source": [
        "def average_word_length(sentence):\n",
        "    words = sentence.split()\n",
        "    if not words:\n",
        "        return 0  # Avoid division by zero\n",
        "    total_length = sum(len(word) for word in words)\n",
        "    return total_length / len(words)\n",
        "\n",
        "# Ask user for input\n",
        "sentence = input(\"Enter a sentence: \")\n",
        "\n",
        "# Call function and print result\n",
        "print(\"Average word length:\", average_word_length(sentence))\n"
      ],
      "metadata": {
        "id": "6RYtxNS2K8z2"
      },
      "execution_count": null,
      "outputs": []
    },
    {
      "cell_type": "code",
      "source": [
        "import math\n",
        "\n",
        "def choose(n, k):\n",
        "    if k > n or k < 0:\n",
        "        return 0\n",
        "    return math.factorial(n) // (math.factorial(k) * math.factorial(n - k))\n",
        "\n",
        "# Ask user for input\n",
        "n = int(input(\"Enter n: \"))\n",
        "k = int(input(\"Enter k: \"))\n",
        "\n",
        "# Call function and print result\n",
        "print(\"Ways to choose:\", choose(n, k))\n"
      ],
      "metadata": {
        "id": "E5Vi-gniLA3D"
      },
      "execution_count": null,
      "outputs": []
    },
    {
      "cell_type": "code",
      "source": [
        "import math\n",
        "\n",
        "def multiple(a, b):\n",
        "    return abs(a * b) // math.gcd(a, b)\n",
        "\n",
        "# Ask user for input\n",
        "a = int(input(\"Enter first number: \"))\n",
        "b = int(input(\"Enter second number: \"))\n",
        "\n",
        "# Call function and print result\n",
        "print(\"Smallest multiple:\", multiple(a, b))\n"
      ],
      "metadata": {
        "id": "f6in6NalLHKn"
      },
      "execution_count": null,
      "outputs": []
    }
  ]
}