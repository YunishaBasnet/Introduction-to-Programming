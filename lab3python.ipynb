{
  "nbformat": 4,
  "nbformat_minor": 0,
  "metadata": {
    "colab": {
      "private_outputs": true,
      "provenance": [],
      "authorship_tag": "ABX9TyOA0LIjy5Vxckc3FPqW6HL1",
      "include_colab_link": true
    },
    "kernelspec": {
      "name": "python3",
      "display_name": "Python 3"
    },
    "language_info": {
      "name": "python"
    }
  },
  "cells": [
    {
      "cell_type": "markdown",
      "metadata": {
        "id": "view-in-github",
        "colab_type": "text"
      },
      "source": [
        "<a href=\"https://colab.research.google.com/github/YunishaBasnet/Introduction-to-Programming/blob/main/lab3python.ipynb\" target=\"_parent\"><img src=\"https://colab.research.google.com/assets/colab-badge.svg\" alt=\"Open In Colab\"/></a>"
      ]
    },
    {
      "cell_type": "markdown",
      "source": [
        "## IS_EQUAL function\n"
      ],
      "metadata": {
        "id": "5z2S7eD4G-Ee"
      }
    },
    {
      "cell_type": "code",
      "source": [
        "def is_equal(a, b, c):\n",
        "    if a==b and a!=c:\n",
        "        return True\n",
        "    elif a==c and a!=b:\n",
        "        return True\n",
        "    elif b==c and b!=a:\n",
        "        return True\n",
        "    else:\n",
        "        return False\n",
        "\n",
        "# Ask user for input\n",
        "a = int(input(\"Enter first number: \"))\n",
        "b = int(input(\"Enter second number: \"))\n",
        "c = int(input(\"Enter third number: \"))\n",
        "\n",
        "# Call function and print result\n",
        "print(\"Result:\", is_equal(a, b, c))"
      ],
      "metadata": {
        "id": "Adz52bDXG9w5"
      },
      "execution_count": null,
      "outputs": []
    },
    {
      "cell_type": "markdown",
      "source": [
        "##Diff Function"
      ],
      "metadata": {
        "id": "podkHlQFHhOo"
      }
    },
    {
      "cell_type": "code",
      "execution_count": null,
      "metadata": {
        "id": "xOEvB6jTGs-n"
      },
      "outputs": [],
      "source": [
        "def diff(x, y, z):\n",
        "    \"\"\"Return whether subtracting one of these numbers from another gives the third.\"\"\"\n",
        "\n",
        "    if x - y == z:\n",
        "        return True\n",
        "    elif x - z == y:\n",
        "        return True\n",
        "    elif y - x == z:\n",
        "        return True\n",
        "    elif y - z == x:\n",
        "        return True\n",
        "    elif z - x == y:\n",
        "        return True\n",
        "    elif z - y == x:\n",
        "        return True\n",
        "    else:\n",
        "        return False\n",
        "\n",
        "# Ask user for input\n",
        "x = int(input(\"Enter first number: \"))\n",
        "y = int(input(\"Enter second number: \"))\n",
        "z = int(input(\"Enter third number: \"))\n",
        "\n",
        "print(\"Result:\", diff(x, y, z))\n"
      ]
    },
    {
      "cell_type": "markdown",
      "source": [
        "##Is_factor"
      ],
      "metadata": {
        "id": "rQ5MdGxKIY6s"
      }
    },
    {
      "cell_type": "code",
      "source": [
        "def is_factor(f, n):\n",
        "    \"\"\"Return whether f is a factor of n.\"\"\"\n",
        "    return f != 0 and n % f == 0\n",
        "\n",
        "# Ask user for input\n",
        "f = int(input(\"Enter a possible factor: \"))\n",
        "n = int(input(\"Enter a number: \"))\n",
        "\n",
        "# Call function and print result\n",
        "print(\"Result:\", is_factor(f, n))\n"
      ],
      "metadata": {
        "id": "B8KphmFAIWKO"
      },
      "execution_count": null,
      "outputs": []
    },
    {
      "cell_type": "markdown",
      "source": [
        "##Factors"
      ],
      "metadata": {
        "id": "PZvHl_q9IhLm"
      }
    },
    {
      "cell_type": "code",
      "source": [
        "def factor(n):\n",
        "  for i in range(n,0,-1):\n",
        "    if n% i==0:\n",
        "      print(i)\n",
        "n = int(input(\"Enter a number: \"))\n",
        "factor(n)"
      ],
      "metadata": {
        "id": "pWVtXLNpIgy2"
      },
      "execution_count": null,
      "outputs": []
    },
    {
      "cell_type": "markdown",
      "source": [
        "##Lrgst_fact"
      ],
      "metadata": {
        "id": "NwbOpHPoIzFL"
      }
    },
    {
      "cell_type": "code",
      "source": [
        "def is_factor(f, n):\n",
        "\n",
        "    return f != 0 and n % f == 0\n",
        "\n",
        "# Ask user for input\n",
        "f = int(input(\"Enter a possible factor: \"))\n",
        "n = int(input(\"Enter a number: \"))\n",
        "\n",
        "# Call function and print result\n",
        "print(\"Result:\", is_factor(f, n))\n"
      ],
      "metadata": {
        "id": "hVWKJEpOIe9g"
      },
      "execution_count": null,
      "outputs": []
    }
  ]
}