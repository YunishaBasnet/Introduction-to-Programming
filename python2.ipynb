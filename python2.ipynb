{
  "nbformat": 4,
  "nbformat_minor": 0,
  "metadata": {
    "colab": {
      "private_outputs": true,
      "provenance": [],
      "authorship_tag": "ABX9TyPYhM1CEwKYS3UcKk/pgCxf",
      "include_colab_link": true
    },
    "kernelspec": {
      "name": "python3",
      "display_name": "Python 3"
    },
    "language_info": {
      "name": "python"
    }
  },
  "cells": [
    {
      "cell_type": "markdown",
      "metadata": {
        "id": "view-in-github",
        "colab_type": "text"
      },
      "source": [
        "<a href=\"https://colab.research.google.com/github/YunishaBasnet/Introduction-to-Programming/blob/main/python2.ipynb\" target=\"_parent\"><img src=\"https://colab.research.google.com/assets/colab-badge.svg\" alt=\"Open In Colab\"/></a>"
      ]
    },
    {
      "cell_type": "code",
      "execution_count": null,
      "metadata": {
        "id": "-NINeUJzrePB"
      },
      "outputs": [],
      "source": [
        "def caesar_cipher(message, key):\n",
        "    encoded_message = \"\"\n",
        "    for ch in message:\n",
        "        if ch.isalpha():  # only encode alphabetic characters\n",
        "            shift = key if ch.islower() else -key  # to decode, use negative key\n",
        "            encoded_message += chr(ord(ch) + shift)\n",
        "        else:\n",
        "            encoded_message += ch  # non-alphabetic characters remain unchanged\n",
        "    return encoded_message\n",
        "\n",
        "# Example usage:\n",
        "message = \"Sourpuss\"\n",
        "key = 2\n",
        "encoded = caesar_cipher(message, key)\n",
        "print(\"Encoded message:\", encoded)\n",
        "decoded = caesar_cipher(encoded, -key)  # decode with negative key\n",
        "print(\"Decoded message:\", decoded)\n"
      ]
    },
    {
      "cell_type": "code",
      "source": [
        "def increase_and_combine(lst):\n",
        "    number = int(''.join(map(str, lst))) + 1  # combine list elements into an integer, add 1\n",
        "    return [int(digit) for digit in str(number)]  # return the new list\n",
        "\n",
        "# Example usage:\n",
        "lst = [4, 2, 5, 6]\n",
        "result = increase_and_combine(lst)\n",
        "print(\"New list:\", result)\n"
      ],
      "metadata": {
        "id": "0l90Bc0CrpFv"
      },
      "execution_count": null,
      "outputs": []
    },
    {
      "cell_type": "code",
      "source": [
        "def add_binary(a, b):\n",
        "    sum_binary = bin(int(a, 2) + int(b, 2))[2:]  # convert binary strings to integers, add them, convert back to binary\n",
        "    return sum_binary\n",
        "\n",
        "# Example usage:\n",
        "a = \"1011\"\n",
        "b = \"10\"\n",
        "result = add_binary(a, b)\n",
        "print(\"Sum of binary numbers:\", result)\n"
      ],
      "metadata": {
        "id": "mnOkgSHzrxwq"
      },
      "execution_count": null,
      "outputs": []
    },
    {
      "cell_type": "code",
      "source": [
        "def sum_of_proper_divisors(n):\n",
        "    divisors = [1]  # start with 1 as it is always a divisor\n",
        "    for i in range(2, int(n ** 0.5) + 1):\n",
        "        if n % i == 0:\n",
        "            divisors.append(i)\n",
        "            if i != n // i:\n",
        "                divisors.append(n // i)\n",
        "    return sum(divisors)\n",
        "\n",
        "def amc(n):\n",
        "    def is_amicable(x):\n",
        "        y = sum_of_proper_divisors(x)\n",
        "        return sum_of_proper_divisors(y) == x and x != y\n",
        "\n",
        "    num = n + 1\n",
        "    while True:\n",
        "        if is_amicable(num):\n",
        "            return num\n",
        "        num += 1\n",
        "\n",
        "# Example usage:\n",
        "result = amc(5)\n",
        "print(\"Smallest amicable number greater than 5:\", result)\n"
      ],
      "metadata": {
        "id": "fZd_hW31r1aC"
      },
      "execution_count": null,
      "outputs": []
    }
  ]
}