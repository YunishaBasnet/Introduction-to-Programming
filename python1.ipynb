{
  "nbformat": 4,
  "nbformat_minor": 0,
  "metadata": {
    "colab": {
      "private_outputs": true,
      "provenance": [],
      "authorship_tag": "ABX9TyNYTDU86ckip+SvkjdfUP0B",
      "include_colab_link": true
    },
    "kernelspec": {
      "name": "python3",
      "display_name": "Python 3"
    },
    "language_info": {
      "name": "python"
    }
  },
  "cells": [
    {
      "cell_type": "markdown",
      "metadata": {
        "id": "view-in-github",
        "colab_type": "text"
      },
      "source": [
        "<a href=\"https://colab.research.google.com/github/YunishaBasnet/Introduction-to-Programming/blob/main/python1.ipynb\" target=\"_parent\"><img src=\"https://colab.research.google.com/assets/colab-badge.svg\" alt=\"Open In Colab\"/></a>"
      ]
    },
    {
      "cell_type": "code",
      "execution_count": null,
      "metadata": {
        "id": "5ICFhg8kqAsQ"
      },
      "outputs": [],
      "source": [
        "def reverse(sentence):\n",
        "  words = sentence.split(' ')\n",
        "  reversed_words = [word[::-1] for word in words]\n",
        "  return ' '.join(reversed_words)\n",
        "\n",
        "# Example usage\n",
        "str_input = \"Hello , Python\"\n",
        "output = reverse(str_input)\n",
        "print(output)  # Output: \"olleH, nohtyP\"\n"
      ]
    },
    {
      "cell_type": "code",
      "source": [
        "def two_sum(nums, target):\n",
        "    num_dict = {}  # Create a dictionary to store the complement\n",
        "    for i, num in enumerate(nums):\n",
        "        complement = target - num\n",
        "        if complement in num_dict:\n",
        "            return [num_dict[complement], i]  # Return indices of the two numbers\n",
        "        num_dict[num] = i  # Store the index of the current number\n",
        "\n",
        "# Example usage\n",
        "nums = [1, 2, 3, 4]\n",
        "target = 7\n",
        "output = two_sum(nums, target)\n",
        "print(output)  # Output: [2, 3]\n"
      ],
      "metadata": {
        "id": "SJsH7d4WqN9P"
      },
      "execution_count": null,
      "outputs": []
    },
    {
      "cell_type": "code",
      "source": [
        "def is_palindrome(n):\n",
        "    return str(n) == str(n)[::-1]  # Convert the number to a string and check if it is the same forwards and backwards\n",
        "\n",
        "# Example usage\n",
        "n = 121\n",
        "output = is_palindrome(n)\n",
        "print(output)  # Output: True\n",
        "\n",
        "n = 123\n",
        "output = is_palindrome(n)\n",
        "print(output)  # Output: False\n"
      ],
      "metadata": {
        "id": "tCR9_RV8q6bN"
      },
      "execution_count": null,
      "outputs": []
    },
    {
      "cell_type": "code",
      "source": [
        "def longest_common_prefix(strs):\n",
        "    if not strs:\n",
        "        return \"\"\n",
        "    prefix = strs[0]\n",
        "    for string in strs[1:]:\n",
        "        while not string.startswith(prefix):\n",
        "            prefix = prefix[:-1]\n",
        "            if not prefix:\n",
        "                return \"\"\n",
        "    return prefix\n",
        "\n",
        "# Example usage\n",
        "str_input = [\"michael\", \"michelle\", \"mitch\"]\n",
        "output = longest_common_prefix(str_input)\n",
        "print(output)  # Output: \"mi\"\n"
      ],
      "metadata": {
        "id": "t0dqRPqxq7oa"
      },
      "execution_count": null,
      "outputs": []
    },
    {
      "cell_type": "code",
      "source": [
        "import math\n",
        "\n",
        "def approximate_pi(n):\n",
        "    approximation = 0\n",
        "    for i in range(n):\n",
        "        approximation += ((-1) ** i) * 4 / (2 * i + 1)  # Pi approximation using the series\n",
        "    return approximation\n",
        "\n",
        "# Example usage\n",
        "n = int(input(\"Enter the number of terms to sum: \"))\n",
        "approx_pi = approximate_pi(n)\n",
        "print(f\"Approximated value of pi: {approx_pi}\")\n",
        "print(f\"Difference from math.pi: {abs(approx_pi - math.pi)}\")\n"
      ],
      "metadata": {
        "id": "mW5tnyKgrI9t"
      },
      "execution_count": null,
      "outputs": []
    },
    {
      "cell_type": "code",
      "source": [
        "import math\n",
        "\n",
        "def sqrt_newton(x, iterations):\n",
        "    guess = x / 2  # Start with an initial guess\n",
        "    for _ in range(iterations):\n",
        "        guess = (guess + x / guess) / 2  # Apply Newton's method formula\n",
        "    return guess\n",
        "\n",
        "# Example usage\n",
        "x = float(input(\"Enter the number to find the square root of: \"))\n",
        "iterations = int(input(\"Enter the number of iterations to improve the guess: \"))\n",
        "approx_sqrt = sqrt_newton(x, iterations)\n",
        "print(f\"Approximated square root: {approx_sqrt}\")\n",
        "print(f\"Difference from math.sqrt: {abs(approx_sqrt - math.sqrt(x))}\")\n"
      ],
      "metadata": {
        "id": "4kzIx86erIe7"
      },
      "execution_count": null,
      "outputs": []
    }
  ]
}