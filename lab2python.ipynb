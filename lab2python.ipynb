{
  "nbformat": 4,
  "nbformat_minor": 0,
  "metadata": {
    "colab": {
      "private_outputs": true,
      "provenance": [],
      "authorship_tag": "ABX9TyOOEgzP+XzsG3CfY0JahQbY",
      "include_colab_link": true
    },
    "kernelspec": {
      "name": "python3",
      "display_name": "Python 3"
    },
    "language_info": {
      "name": "python"
    }
  },
  "cells": [
    {
      "cell_type": "markdown",
      "metadata": {
        "id": "view-in-github",
        "colab_type": "text"
      },
      "source": [
        "<a href=\"https://colab.research.google.com/github/YunishaBasnet/Introduction-to-Programming/blob/main/lab2python.ipynb\" target=\"_parent\"><img src=\"https://colab.research.google.com/assets/colab-badge.svg\" alt=\"Open In Colab\"/></a>"
      ]
    },
    {
      "cell_type": "markdown",
      "source": [
        "## function to check if a number is even or odd.\n"
      ],
      "metadata": {
        "id": "Sk48Iru_FoO7"
      }
    },
    {
      "cell_type": "code",
      "source": [
        "def check_even_odd(n):\n",
        "    \"\"\"Returns True if n is even, otherwise False.\"\"\"\n",
        "    return n % 2 == 0\n",
        "\n",
        "# Example usage:\n",
        "print(check_even_odd(10))  # True\n",
        "print(check_even_odd(11))  # False\n"
      ],
      "metadata": {
        "id": "BXmm6bR7Fy71"
      },
      "execution_count": null,
      "outputs": []
    },
    {
      "cell_type": "markdown",
      "source": [
        "## If the Input is Odd, Print All Odd Numbers Less Than It Until 1"
      ],
      "metadata": {
        "id": "VHCZY0tYF0dy"
      }
    },
    {
      "cell_type": "code",
      "source": [
        "def print_odd_less_than(n):\n",
        "    \"\"\"Prints all odd numbers less than n if n is odd.\"\"\"\n",
        "    if n % 2 != 0:\n",
        "        for i in range(n - 2, 0, -2):\n",
        "            print(i, end=\" \")\n",
        "        print()\n",
        "\n",
        "# Example usage:\n",
        "print_odd_less_than(11)  # Prints: 9 7 5 3 1\n",
        "print_odd_less_than(10)  # (No output)\n"
      ],
      "metadata": {
        "id": "CTGykhHlFzq4"
      },
      "execution_count": null,
      "outputs": []
    },
    {
      "cell_type": "markdown",
      "source": [
        "##Function to Add All Odd Numbers Less Than or Equal to n\n",
        "\n",
        "\n"
      ],
      "metadata": {
        "id": "vpKMXnYHGL-L"
      }
    },
    {
      "cell_type": "code",
      "source": [
        "def sum_odd(n):\n",
        "    \"\"\"Returns the sum of all odd numbers less than or equal to n.\"\"\"\n",
        "    return sum(i for i in range(1, n + 1, 2))\n",
        "\n",
        "# Example usage:\n",
        "print(sum_odd(6))  # 9 (1+3+5)\n",
        "print(sum_odd(7))  # 16 (1+3+5+7)\n"
      ],
      "metadata": {
        "id": "_apGAJC8F43S"
      },
      "execution_count": null,
      "outputs": []
    },
    {
      "cell_type": "markdown",
      "source": [
        "##Function to Add All Even Numbers Less Than or Equal to n"
      ],
      "metadata": {
        "id": "4Z_7G4CIGVdK"
      }
    },
    {
      "cell_type": "code",
      "source": [
        "def sum_even(n):\n",
        "    \"\"\"Returns the sum of all even numbers less than or equal to n.\"\"\"\n",
        "    return sum(i for i in range(2, n + 1, 2))\n",
        "\n",
        "# Example usage:\n",
        "print(sum_even(6))  # 12 (2+4+6)\n",
        "print(sum_even(7))  # 12 (2+4+6)\n"
      ],
      "metadata": {
        "id": "Q-LP6U5GGRJm"
      },
      "execution_count": null,
      "outputs": []
    },
    {
      "cell_type": "markdown",
      "source": [
        "##Function to Print All Even Numbers Less Than or Equal to n if n is Even, or Half of n if n is Odd"
      ],
      "metadata": {
        "id": "TTqKiYc1GczR"
      }
    },
    {
      "cell_type": "code",
      "source": [
        "def print_even_or_half_odd(n):\n",
        "    \"\"\"Prints all even numbers less than or equal to n if n is even.\n",
        "    If n is odd, prints half of n.\"\"\"\n",
        "    if n % 2 == 0:\n",
        "        print([i for i in range(2, n + 1, 2)])\n",
        "    else:\n",
        "        print(n // 2)\n",
        "\n",
        "# Example usage:\n",
        "print_even_or_half_odd(8)  # Prints: [2, 4, 6, 8]\n",
        "print_even_or_half_odd(7)  # Prints: 3\n"
      ],
      "metadata": {
        "id": "ROZhAiflGcee"
      },
      "execution_count": null,
      "outputs": []
    },
    {
      "cell_type": "markdown",
      "source": [
        "##Function to Return the Sum of the Squares of the Two Smallest Numbers Among a, b, and c"
      ],
      "metadata": {
        "id": "LDfBRFWrGjAZ"
      }
    },
    {
      "cell_type": "code",
      "source": [
        "def foo(a, b, c):\n",
        "    \"\"\"Returns the sum of squares of the two smallest numbers among a, b, and c.\"\"\"\n",
        "    smallest_two = sorted([a, b, c])[:2]\n",
        "    return sum(x**2 for x in smallest_two)\n",
        "\n",
        "# Example usage:\n",
        "print(foo(1, 2, 3))  # 5 (1² + 2² = 5)\n",
        "print(foo(-3, 1, 5))  # 10 ((-3)² + 1² = 9 + 1 = 10)\n"
      ],
      "metadata": {
        "id": "aRMv_SWXGTES"
      },
      "execution_count": null,
      "outputs": []
    }
  ]
}