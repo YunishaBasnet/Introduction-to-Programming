{
  "nbformat": 4,
  "nbformat_minor": 0,
  "metadata": {
    "colab": {
      "private_outputs": true,
      "provenance": [],
      "authorship_tag": "ABX9TyOgnTOE2FGq4dcU8SILO2aN",
      "include_colab_link": true
    },
    "kernelspec": {
      "name": "python3",
      "display_name": "Python 3"
    },
    "language_info": {
      "name": "python"
    }
  },
  "cells": [
    {
      "cell_type": "markdown",
      "metadata": {
        "id": "view-in-github",
        "colab_type": "text"
      },
      "source": [
        "<a href=\"https://colab.research.google.com/github/YunishaBasnet/Introduction-to-Programming/blob/main/lab6python.ipynb\" target=\"_parent\"><img src=\"https://colab.research.google.com/assets/colab-badge.svg\" alt=\"Open In Colab\"/></a>"
      ]
    },
    {
      "cell_type": "code",
      "execution_count": null,
      "metadata": {
        "id": "aQ-YRJLjLrGf"
      },
      "outputs": [],
      "source": [
        "def is_prime(n):\n",
        "\n",
        "    if n < 2:\n",
        "        return False\n",
        "    for i in range(2, int(n ** 0.5) + 1):\n",
        "        if n % i == 0:\n",
        "            return False\n",
        "    return True\n",
        "\n",
        "def find_goldbach_pair(n):\n",
        "    if n % 2 != 0:\n",
        "        return \"Input must be an even number\"\n",
        "\n",
        "    for i in range(2, n):\n",
        "        if is_prime(i) and is_prime(n - i):\n",
        "            return i, n - i\n",
        "\n",
        "    return \"No pair found\"\n",
        "\n",
        "# Get input from user\n",
        "n = int(input(\"Enter an even number: \"))\n",
        "\n",
        "# Check and find the pair\n",
        "if n % 2 == 0:\n",
        "    result = find_goldbach_pair(n)\n",
        "    if isinstance(result, tuple):\n",
        "        print(f\"The two primes that sum up to {n} are: {result[0]} and {result[1]}\")\n",
        "    else:\n",
        "        print(result)\n",
        "else:\n",
        "    print(\"The number must be even.\")\n"
      ]
    },
    {
      "cell_type": "code",
      "source": [
        "def move_zero(lst):\n",
        "    non_zeros = [x for x in lst if x != 0]\n",
        "    zeros = [0] * (len(lst) - len(non_zeros))\n",
        "    return non_zeros + zeros\n",
        "\n",
        "# Example usage\n",
        "lst = [1, 0, 3, 0, 4]\n",
        "print(\"After moving zeros:\", move_zero(lst))\n"
      ],
      "metadata": {
        "id": "n6IuyZuSL0oI"
      },
      "execution_count": null,
      "outputs": []
    },
    {
      "cell_type": "code",
      "source": [
        "def cmp(pattern, lst):\n",
        "    if len(pattern) != len(lst):\n",
        "        return False\n",
        "\n",
        "    mapping = {}\n",
        "    for p, s in zip(pattern, lst):\n",
        "        if p in mapping:\n",
        "            if mapping[p] != s:\n",
        "                return False\n",
        "        else:\n",
        "            if s in mapping.values():\n",
        "                return False\n",
        "            mapping[p] = s\n",
        "\n",
        "    return True\n",
        "\n",
        "# Test cases\n",
        "print(cmp(\"abab\", [\"python\", \"code\", \"python\", \"code\"]))  # True\n",
        "print(cmp(\"aaab\", [\"python\", \"python\", \"python\", \"code\"]))  # True\n",
        "print(cmp(\"abcd\", [\"python\", \"code\", \"is\", \"here\"]))  # True\n",
        "print(cmp(\"abcd\", [\"python\", \"code\", \"code\", \"python\"]))  # False\n"
      ],
      "metadata": {
        "id": "yvX24YsAMAT8"
      },
      "execution_count": null,
      "outputs": []
    },
    {
      "cell_type": "code",
      "source": [],
      "metadata": {
        "id": "7SgFybRvMEwp"
      },
      "execution_count": null,
      "outputs": []
    }
  ]
}