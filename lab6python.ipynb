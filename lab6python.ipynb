{
  "nbformat": 4,
  "nbformat_minor": 0,
  "metadata": {
    "colab": {
      "private_outputs": true,
      "provenance": [],
      "authorship_tag": "ABX9TyOHR7B5DDZUCStcaDpe+/ev",
      "include_colab_link": true
    },
    "kernelspec": {
      "name": "python3",
      "display_name": "Python 3"
    },
    "language_info": {
      "name": "python"
    }
  },
  "cells": [
    {
      "cell_type": "markdown",
      "metadata": {
        "id": "view-in-github",
        "colab_type": "text"
      },
      "source": [
        "<a href=\"https://colab.research.google.com/github/YunishaBasnet/Introduction-to-Programming/blob/main/lab6python.ipynb\" target=\"_parent\"><img src=\"https://colab.research.google.com/assets/colab-badge.svg\" alt=\"Open In Colab\"/></a>"
      ]
    },
    {
      "cell_type": "code",
      "execution_count": null,
      "metadata": {
        "id": "iJqz5cC9MLTS"
      },
      "outputs": [],
      "source": [
        "import random\n",
        "\n",
        "def estimate_pi(num_darts):\n",
        "    hits = 0\n",
        "    for _ in range(num_darts):\n",
        "        x = 2 * random.random() - 1  # Generate x coordinate in range [-1, 1]\n",
        "        y = 2 * random.random() - 1  # Generate y coordinate in range [-1, 1]\n",
        "\n",
        "        # Check if the point is inside the circle\n",
        "        if x**2 + y**2 <= 1:\n",
        "            hits += 1\n",
        "\n",
        "    # Estimate pi\n",
        "    pi_estimate = 4 * hits / num_darts\n",
        "    return pi_estimate\n",
        "\n",
        "# Get input from the user\n",
        "num_darts = int(input(\"Enter the number of darts: \"))\n",
        "\n",
        "# Estimate pi using the Monte Carlo method\n",
        "pi_value = estimate_pi(num_darts)\n",
        "print(f\"Estimated value of Pi after throwing {num_darts} darts: {pi_value}\")\n"
      ]
    },
    {
      "cell_type": "code",
      "source": [
        "import random\n",
        "\n",
        "def random_walk(n):\n",
        "    position = 0  # Starting at position 0\n",
        "    for _ in range(n):\n",
        "        flip = random.choice(['heads', 'tails'])  # Flip a coin\n",
        "        if flip == 'heads':\n",
        "            position += 1  # Step forward\n",
        "        else:\n",
        "            position -= 1  # Step backward\n",
        "\n",
        "    return position\n",
        "\n",
        "# Get input from the user\n",
        "num_steps = int(input(\"Enter the number of steps for the random walk: \"))\n",
        "\n",
        "# Perform the random walk\n",
        "final_position = random_walk(num_steps)\n",
        "print(f\"After {num_steps} steps, the final position is {final_position}.\")\n"
      ],
      "metadata": {
        "id": "JpozrJkZMYWb"
      },
      "execution_count": null,
      "outputs": []
    }
  ]
}